{
 "cells": [
  {
   "cell_type": "code",
   "execution_count": 1,
   "metadata": {},
   "outputs": [],
   "source": [
    "import numpy as np"
   ]
  },
  {
   "cell_type": "code",
   "execution_count": 5,
   "metadata": {},
   "outputs": [
    {
     "name": "stdout",
     "output_type": "stream",
     "text": [
      "[ 3.  4.  3.]\n"
     ]
    }
   ],
   "source": [
    "a = np.array([[1,0,2],\n",
    "            [5,4,1],\n",
    "            [3,8,6]])\n",
    "\n",
    "cov = np.cov(a,rowVar = False, bias = True)\n",
    "\n",
    "print(mean)"
   ]
  },
  {
   "cell_type": "code",
   "execution_count": 10,
   "metadata": {},
   "outputs": [],
   "source": [
    "def calculate_cov(x) :\n",
    "    xcentered = np.mean(x, axis=0)\n",
    "    lenx = xcentered.shape[0]\n",
    "    xcentered = x - xcentered\n",
    "    covX = xcentered.T.dot(xcentered) / lenx\n",
    "    return covX"
   ]
  },
  {
   "cell_type": "code",
   "execution_count": 11,
   "metadata": {},
   "outputs": [
    {
     "name": "stdout",
     "output_type": "stream",
     "text": [
      "[[  2.66666667   2.66666667  -0.66666667]\n",
      " [  2.66666667  10.66666667   5.33333333]\n",
      " [ -0.66666667   5.33333333   4.66666667]]\n"
     ]
    }
   ],
   "source": [
    "print(calculate_cov(a))"
   ]
  },
  {
   "cell_type": "code",
   "execution_count": null,
   "metadata": {},
   "outputs": [],
   "source": []
  }
 ],
 "metadata": {
  "kernelspec": {
   "display_name": "Python 3",
   "language": "python",
   "name": "python3"
  },
  "language_info": {
   "codemirror_mode": {
    "name": "ipython",
    "version": 3
   },
   "file_extension": ".py",
   "mimetype": "text/x-python",
   "name": "python",
   "nbconvert_exporter": "python",
   "pygments_lexer": "ipython3",
   "version": "3.6.5"
  }
 },
 "nbformat": 4,
 "nbformat_minor": 2
}
